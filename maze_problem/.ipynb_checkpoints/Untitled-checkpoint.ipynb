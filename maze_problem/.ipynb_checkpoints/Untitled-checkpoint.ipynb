{
 "cells": [
  {
   "cell_type": "code",
   "execution_count": 7,
   "metadata": {
    "scrolled": false
   },
   "outputs": [
    {
     "name": "stdout",
     "output_type": "stream",
     "text": [
      "1000000000000000000000000000001\n"
     ]
    }
   ],
   "source": [
    "# jupyter notebook --NotebookApp.iopub_data_rate_limit=1.0e10\n",
    "# 2199023255552\n",
    "\n",
    "# def bruteForce():\n",
    "#     allPoss = []\n",
    "#     for i in range(1099511627776, 2199023255552):\n",
    "#         binary = \"{0:b}\".format(i)\n",
    "#         allPoss.append(binary[1:])\n",
    "#     print(allPoss)\n",
    "        \n",
    "\n",
    "# bruteForce()\n",
    "\n",
    "# ind = [0,1, 1,1, 0,0]\n",
    "# ind2 = []\n",
    "\n",
    "# for x in range(0, len(ind), 2):\n",
    "#     if ind[x]==1 and ind[x+1]==1:\n",
    "#         ind2.append(\"UP\")\n",
    "#     elif ind[x]==0 and ind[x+1]==0:\n",
    "#         ind2.append(\"DOWN\")\n",
    "#     elif ind[x]==1 and ind[x+1]==0:\n",
    "#         ind2.append(\"LEFT\")\n",
    "#     elif ind[x]==0 and ind[x+1]==1:\n",
    "#         ind2.append(\"RIGHT\")\n",
    "\n",
    "# print(ind2)\n",
    "\n",
    "# series=[]\n",
    "\n",
    "# for i in range(1099511627776, 1099511627786):\n",
    "#     print(i)\n",
    "#     series.append(i%1099511627775)\n",
    "# print(series)\n",
    "\n",
    "# if int('1') == 1:\n",
    "#     print(\"ok\")\n",
    "\n",
    "# from random import randrange\n",
    "# for i in range(0, 30):\n",
    "#     print(randrange(100001))\n",
    "    \n",
    "c = '1000000000000000000000000000001'\n",
    "d = int(c)\n",
    "print(d)"
   ]
  }
 ],
 "metadata": {
  "kernelspec": {
   "display_name": "Python 3",
   "language": "python",
   "name": "python3"
  },
  "language_info": {
   "codemirror_mode": {
    "name": "ipython",
    "version": 3
   },
   "file_extension": ".py",
   "mimetype": "text/x-python",
   "name": "python",
   "nbconvert_exporter": "python",
   "pygments_lexer": "ipython3",
   "version": "3.8.5"
  }
 },
 "nbformat": 4,
 "nbformat_minor": 4
}
